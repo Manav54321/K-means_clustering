{
  "cells": [
    {
      "cell_type": "code",
      "execution_count": null,
      "metadata": {
        "id": "zmY86TTBy5PS"
      },
      "outputs": [],
      "source": [
        "import numpy as np\n",
        "import pandas as pd\n",
        "import matplotlib.pyplot as plt"
      ]
    },
    {
      "cell_type": "code",
      "execution_count": null,
      "metadata": {
        "colab": {
          "base_uri": "https://localhost:8080/",
          "height": 224
        },
        "id": "qckGBk0qzD81",
        "outputId": "13d62f74-18b1-482f-8e61-3b995c51ec4b"
      },
      "outputs": [
        {
          "ename": "",
          "evalue": "",
          "output_type": "error",
          "traceback": [
            "\u001b[1;31mFailed to start the Kernel. \n",
            "\u001b[1;31mCannot read properties of undefined (reading 'path'). \n",
            "\u001b[1;31mView Jupyter <a href='command:jupyter.viewOutput'>log</a> for further details."
          ]
        }
      ],
      "source": [
        "df = pd.read_csv('student_clustering.csv')\n",
        "print(\"the shape of the data is:\", df.shape)\n",
        "df.head()"
      ]
    },
    {
      "cell_type": "code",
      "execution_count": 6,
      "metadata": {
        "colab": {
          "base_uri": "https://localhost:8080/",
          "height": 449
        },
        "id": "jRJcE2mp1AaP",
        "outputId": "2ebb95fa-1a69-428d-e0ba-539af648815b"
      },
      "outputs": [
        {
          "data": {
            "image/png": "[encoded data removed]",
            "text/plain": [
              "<Figure size 640x480 with 1 Axes>"
            ]
          },
          "metadata": {},
          "output_type": "display_data"
        }
      ],
      "source": [
        "plt.scatter(df['cgpa'], df['iq'])\n",
        "plt.xlabel('cgpa')\n",
        "plt.ylabel('iq')\n",
        "plt.show()"
      ]
    },
    {
      "cell_type": "code",
      "execution_count": 7,
      "metadata": {
        "id": "ykWTtmsL1MUD"
      },
      "outputs": [],
      "source": [
        "from sklearn.cluster import KMeans"
      ]
    },
    {
      "cell_type": "code",
      "execution_count": null,
      "metadata": {
        "id": "fC6bxaz11i9U"
      },
      "outputs": [],
      "source": [
        "wcss = []\n",
        "for i in range(1, 11):\n",
        "  kmeans = KMeans(n_clusters = i)\n",
        "  kmeans.fit(df)\n",
        "  wcss.append(kmeans.inertia_)"
      ]
    },
    {
      "cell_type": "code",
      "execution_count": 16,
      "metadata": {
        "colab": {
          "base_uri": "https://localhost:8080/"
        },
        "id": "9PT-wDzd3Mip",
        "outputId": "0011248a-33fa-42ee-a997-f3d64309477f"
      },
      "outputs": [
        {
          "data": {
            "text/plain": [
              "[29957.898288000004,\n",
              " 4184.141270000001,\n",
              " 2362.713349,\n",
              " 681.9696600000003,\n",
              " 514.1616803171116,\n",
              " 395.9605877691831,\n",
              " 295.43918959431915,\n",
              " 242.41587382556423,\n",
              " 201.0572208812339,\n",
              " 175.50793246853556]"
            ]
          },
          "execution_count": 16,
          "metadata": {},
          "output_type": "execute_result"
        }
      ],
      "source": [
        "wcss"
      ]
    },
    {
      "cell_type": "code",
      "execution_count": 12,
      "metadata": {
        "colab": {
          "base_uri": "https://localhost:8080/",
          "height": 600
        },
        "id": "mEwTMLYM1nDD",
        "outputId": "c542c014-f548-4406-8bda-3b78b076e64b"
      },
      "outputs": [
        {
          "data": {
            "text/html": [
              "<div style=\"max-width:800px; border: 1px solid var(--colab-border-color);\"><style>\n",
              "      pre.function-repr-contents {\n",
              "        overflow-x: auto;\n",
              "        padding: 8px 12px;\n",
              "        max-height: 500px;\n",
              "      }\n",
              "\n",
              "      pre.function-repr-contents.function-repr-contents-collapsed {\n",
              "        cursor: pointer;\n",
              "        max-height: 100px;\n",
              "      }\n",
              "    </style>\n",
              "    <pre style=\"white-space: initial; background:\n",
              "         var(--colab-secondary-surface-color); padding: 8px 12px;\n",
              "         border-bottom: 1px solid var(--colab-border-color);\"><b>matplotlib.pyplot.show</b><br/>def show(*args, **kwargs)</pre><pre class=\"function-repr-contents function-repr-contents-collapsed\" style=\"\"><a class=\"filepath\" style=\"display:none\" href=\"#\">/usr/local/lib/python3.10/dist-packages/matplotlib/pyplot.py</a>Display all open figures.\n",
              "\n",
              "Parameters\n",
              "----------\n",
              "block : bool, optional\n",
              "    Whether to wait for all figures to be closed before returning.\n",
              "\n",
              "    If `True` block and run the GUI main loop until all figure windows\n",
              "    are closed.\n",
              "\n",
              "    If `False` ensure that all figure windows are displayed and return\n",
              "    immediately.  In this case, you are responsible for ensuring\n",
              "    that the event loop is running to have responsive figures.\n",
              "\n",
              "    Defaults to True in non-interactive mode and to False in interactive\n",
              "    mode (see `.pyplot.isinteractive`).\n",
              "\n",
              "See Also\n",
              "--------\n",
              "ion : Enable interactive mode, which shows / updates the figure after\n",
              "      every plotting command, so that calling ``show()`` is not necessary.\n",
              "ioff : Disable interactive mode.\n",
              "savefig : Save the figure to an image file instead of showing it on screen.\n",
              "\n",
              "Notes\n",
              "-----\n",
              "**Saving figures to file and showing a window at the same time**\n",
              "\n",
              "If you want an image file as well as a user interface window, use\n",
              "`.pyplot.savefig` before `.pyplot.show`. At the end of (a blocking)\n",
              "``show()`` the figure is closed and thus unregistered from pyplot. Calling\n",
              "`.pyplot.savefig` afterwards would save a new and thus empty figure. This\n",
              "limitation of command order does not apply if the show is non-blocking or\n",
              "if you keep a reference to the figure and use `.Figure.savefig`.\n",
              "\n",
              "**Auto-show in jupyter notebooks**\n",
              "\n",
              "The jupyter backends (activated via ``%matplotlib inline``,\n",
              "``%matplotlib notebook``, or ``%matplotlib widget``), call ``show()`` at\n",
              "the end of every cell by default. Thus, you usually don&#x27;t have to call it\n",
              "explicitly there.</pre>\n",
              "      <script>\n",
              "      if (google.colab.kernel.accessAllowed && google.colab.files && google.colab.files.view) {\n",
              "        for (const element of document.querySelectorAll('.filepath')) {\n",
              "          element.style.display = 'block'\n",
              "          element.onclick = (event) => {\n",
              "            event.preventDefault();\n",
              "            event.stopPropagation();\n",
              "            google.colab.files.view(element.textContent, 401);\n",
              "          };\n",
              "        }\n",
              "      }\n",
              "      for (const element of document.querySelectorAll('.function-repr-contents')) {\n",
              "        element.onclick = (event) => {\n",
              "          event.preventDefault();\n",
              "          event.stopPropagation();\n",
              "          element.classList.toggle('function-repr-contents-collapsed');\n",
              "        };\n",
              "      }\n",
              "      </script>\n",
              "      </div>"
            ],
            "text/plain": [
              "<function matplotlib.pyplot.show(close=None, block=None)>"
            ]
          },
          "execution_count": 12,
          "metadata": {},
          "output_type": "execute_result"
        },
        {
          "data": {
            "image/png": "[encoded data removed]",
            "text/plain": [
              "<Figure size 640x480 with 1 Axes>"
            ]
          },
          "metadata": {},
          "output_type": "display_data"
        }
      ],
      "source": [
        "plt.plot(range(1, 11), wcss)\n",
        "plt.show"
      ]
    },
    {
      "cell_type": "code",
      "execution_count": 25,
      "metadata": {
        "colab": {
          "base_uri": "https://localhost:8080/"
        },
        "id": "bA0CopAa2zdV",
        "outputId": "3b82e07f-c5f5-4507-eba4-69295cc097b8"
      },
      "outputs": [
        {
          "name": "stderr",
          "output_type": "stream",
          "text": [
            "/usr/local/lib/python3.10/dist-packages/sklearn/cluster/_kmeans.py:870: FutureWarning: The default value of `n_init` will change from 10 to 'auto' in 1.4. Set the value of `n_init` explicitly to suppress the warning\n",
            "  warnings.warn(\n"
          ]
        }
      ],
      "source": [
        "x = df.iloc[:,:].values\n",
        "kmeans = KMeans(n_clusters = 4)\n",
        "y_means = kmeans.fit_predict(x)"
      ]
    },
    {
      "cell_type": "code",
      "execution_count": 26,
      "metadata": {
        "colab": {
          "base_uri": "https://localhost:8080/"
        },
        "id": "hHccOd2u3WR6",
        "outputId": "d1a36e7c-098d-4af3-cc3d-fc52c48efd45"
      },
      "outputs": [
        {
          "data": {
            "text/plain": [
              "array([3, 2, 1, 1, 2, 2, 1, 0, 2, 1, 3, 2, 1, 3, 2, 1, 2, 1, 2, 2, 1, 3,\n",
              "       1, 3, 3, 1, 3, 0, 1, 2, 0, 2, 0, 2, 1, 1, 0, 2, 3, 2, 3, 1, 1, 3,\n",
              "       0, 0, 1, 2, 0, 2, 3, 3, 0, 1, 0, 2, 2, 0, 2, 0, 2, 1, 1, 0, 3, 0,\n",
              "       1, 3, 2, 1, 2, 0, 1, 3, 2, 0, 2, 0, 3, 1, 1, 0, 2, 3, 0, 3, 0, 2,\n",
              "       0, 2, 0, 0, 1, 3, 1, 1, 0, 1, 3, 0, 2, 3, 3, 0, 3, 3, 1, 3, 0, 0,\n",
              "       1, 0, 2, 2, 1, 0, 1, 2, 0, 3, 3, 2, 1, 0, 1, 3, 1, 2, 3, 1, 1, 2,\n",
              "       3, 3, 2, 0, 2, 3, 1, 1, 1, 3, 2, 3, 3, 0, 3, 0, 2, 3, 0, 3, 0, 0,\n",
              "       3, 1, 2, 0, 2, 1, 3, 0, 2, 1, 0, 3, 2, 3, 3, 0, 0, 2, 0, 3, 3, 1,\n",
              "       0, 2, 3, 0, 0, 2, 2, 2, 1, 3, 1, 1, 0, 2, 1, 1, 3, 3, 1, 3, 0, 2,\n",
              "       2, 0], dtype=int32)"
            ]
          },
          "execution_count": 26,
          "metadata": {},
          "output_type": "execute_result"
        }
      ],
      "source": [
        "y_means"
      ]
    },
    {
      "cell_type": "code",
      "execution_count": 34,
      "metadata": {
        "colab": {
          "base_uri": "https://localhost:8080/"
        },
        "id": "mstMcY5C34fJ",
        "outputId": "9d81daba-3a4f-40d3-b8bb-941c60455b20"
      },
      "outputs": [
        {
          "data": {
            "text/plain": [
              "array([[  8.8 , 115.  ],\n",
              "       [  9.18, 119.  ],\n",
              "       [  8.86, 117.  ],\n",
              "       [  8.83, 118.  ],\n",
              "       [  8.56, 118.  ],\n",
              "       [  8.96, 116.  ],\n",
              "       [  8.78, 116.  ],\n",
              "       [  8.45, 119.  ],\n",
              "       [  8.79, 116.  ],\n",
              "       [  8.81, 115.  ],\n",
              "       [  8.88, 115.  ],\n",
              "       [  9.07, 117.  ],\n",
              "       [  8.92, 118.  ],\n",
              "       [  8.75, 113.  ],\n",
              "       [  8.71, 116.  ],\n",
              "       [  8.86, 118.  ],\n",
              "       [  9.3 , 117.  ],\n",
              "       [  9.01, 121.  ],\n",
              "       [  8.97, 116.  ],\n",
              "       [  9.  , 117.  ],\n",
              "       [  8.76, 117.  ],\n",
              "       [  8.78, 117.  ],\n",
              "       [  9.23, 114.  ],\n",
              "       [  9.03, 118.  ],\n",
              "       [  9.13, 118.  ],\n",
              "       [  8.91, 119.  ],\n",
              "       [  8.98, 118.  ],\n",
              "       [  9.03, 118.  ],\n",
              "       [  8.86, 117.  ],\n",
              "       [  8.89, 118.  ],\n",
              "       [  8.97, 117.  ],\n",
              "       [  8.72, 119.  ],\n",
              "       [  8.93, 118.  ],\n",
              "       [  8.58, 118.  ],\n",
              "       [  8.94, 117.  ],\n",
              "       [  8.6 , 117.  ],\n",
              "       [  8.77, 117.  ],\n",
              "       [  8.81, 116.  ],\n",
              "       [  8.54, 118.  ],\n",
              "       [  8.97, 119.  ],\n",
              "       [  8.91, 117.  ],\n",
              "       [  8.68, 119.  ],\n",
              "       [  9.06, 120.  ],\n",
              "       [  8.9 , 117.  ],\n",
              "       [  8.94, 115.  ],\n",
              "       [  8.91, 115.  ],\n",
              "       [  8.91, 117.  ],\n",
              "       [  8.95, 116.  ],\n",
              "       [  8.57, 118.  ],\n",
              "       [  8.82, 117.  ]])"
            ]
          },
          "execution_count": 34,
          "metadata": {},
          "output_type": "execute_result"
        }
      ],
      "source": [
        "x[y_means == 0]"
      ]
    },
    {
      "cell_type": "code",
      "execution_count": 41,
      "metadata": {
        "colab": {
          "base_uri": "https://localhost:8080/",
          "height": 449
        },
        "id": "ihQSW5q23_Lz",
        "outputId": "ff666daf-f85d-4ef8-944e-14821a04bc9c"
      },
      "outputs": [
        {
          "data": {
            "image/png": "[encoded data removed]",
            "text/plain": [
              "<Figure size 640x480 with 1 Axes>"
            ]
          },
          "metadata": {},
          "output_type": "display_data"
        }
      ],
      "source": [
        "plt.scatter(x[y_means == 0, 0], x[y_means == 0, 1], color = 'red')\n",
        "plt.scatter(x[y_means == 1, 0], x[y_means == 1, 1], color = 'green')\n",
        "plt.scatter(x[y_means == 2, 0], x[y_means == 2, 1], color = 'blue')\n",
        "plt.scatter(x[y_means == 3, 0], x[y_means == 3, 1], color = 'orange')\n",
        "plt.xlabel('cgpa')\n",
        "plt.ylabel('iq')\n",
        "plt.show()"
      ]
    },
    {
      "cell_type": "code",
      "execution_count": null,
      "metadata": {
        "id": "u76bQIBO4lCE"
      },
      "outputs": [],
      "source": []
    }
  ],
  "metadata": {
    "colab": {
      "provenance": []
    },
    "kernelspec": {
      "display_name": "Python 3",
      "name": "python3"
    },
    "language_info": {
      "name": "python",
      "version": "3.10.5"
    }
  },
  "nbformat": 4,
  "nbformat_minor": 0
}
